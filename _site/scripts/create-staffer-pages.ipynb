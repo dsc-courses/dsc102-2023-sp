{
 "cells": [
  {
   "cell_type": "code",
   "execution_count": 1,
   "id": "0cf470cc",
   "metadata": {},
   "outputs": [],
   "source": [
    "import pandas as pd\n",
    "import numpy as np"
   ]
  },
  {
   "cell_type": "code",
   "execution_count": 2,
   "id": "0b68c992",
   "metadata": {},
   "outputs": [],
   "source": [
    "df = pd.read_csv('Staff Directory and Website Bios – DSC 10, Fall 2022 - website_bios.csv', header=None)"
   ]
  },
  {
   "cell_type": "code",
   "execution_count": 9,
   "id": "f0b0bf57",
   "metadata": {},
   "outputs": [],
   "source": [
    "def row_md(row):\n",
    "    first, last = row[1], row[2]\n",
    "    filename = '../_staffers/' + last.lower() + '-' + first.lower() + '.md'\n",
    "    with open(filename, 'w') as f:\n",
    "        f.write(row[15])"
   ]
  },
  {
   "cell_type": "code",
   "execution_count": 10,
   "id": "3af664ca",
   "metadata": {
    "scrolled": true
   },
   "outputs": [],
   "source": [
    "df.iloc[:19].apply(row_md, axis=1);"
   ]
  },
  {
   "cell_type": "code",
   "execution_count": null,
   "id": "448796ae",
   "metadata": {},
   "outputs": [],
   "source": []
  }
 ],
 "metadata": {
  "kernelspec": {
   "display_name": "Python 3",
   "language": "python",
   "name": "python3"
  },
  "language_info": {
   "codemirror_mode": {
    "name": "ipython",
    "version": 3
   },
   "file_extension": ".py",
   "mimetype": "text/x-python",
   "name": "python",
   "nbconvert_exporter": "python",
   "pygments_lexer": "ipython3",
   "version": "3.9.6"
  },
  "vscode": {
   "interpreter": {
    "hash": "aee8b7b246df8f9039afb4144a1f6fd8d2ca17a180786b69acc140d282b71a49"
   }
  }
 },
 "nbformat": 4,
 "nbformat_minor": 5
}
